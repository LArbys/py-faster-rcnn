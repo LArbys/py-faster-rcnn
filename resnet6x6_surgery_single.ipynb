{
 "cells": [
  {
   "cell_type": "code",
   "execution_count": 2,
   "metadata": {
    "collapsed": true
   },
   "outputs": [],
   "source": [
    "%matplotlib inline\n",
    "import matplotlib\n",
    "import matplotlib.pyplot as plt"
   ]
  },
  {
   "cell_type": "code",
   "execution_count": null,
   "metadata": {
    "collapsed": false,
    "scrolled": true
   },
   "outputs": [
    {
     "name": "stdout",
     "output_type": "stream",
     "text": [
      "Called with args:\n",
      "Namespace(cfg_file='experiments/cfgs/resnet_nu_cosmic_train_v04_brett.yml', gpu_id=0, imdb_name='rpn_uboone_train_1', max_iters=700000, pretrained_model='/data/drinkingkazu/UBDeconvNet/resdeconv/v01/snapshot_resnet_v01_iter_61750.caffemodel.h5', randomize=False, set_cfgs=None, solver='models/rpn_uboone/resnet6x6_nu_weights_sin/faster_rcnn_end2end/solver.prototxt')\n",
      "Using config:\n",
      "{'DATA_DIR': '/home/vgenty/segment/py-faster-rcnn/data',\n",
      " 'DEBUG': False,\n",
      " 'DEDUP_BOXES': 0.0625,\n",
      " 'DEVKIT': 'NuDevKitv04_brett',\n",
      " 'EPS': 1e-14,\n",
      " 'EXP_DIR': 'faster_rcnn_end2end',\n",
      " 'GPU_ID': 0,\n",
      " 'HEIGHT': 864,\n",
      " 'IMAGE2DPROD': 'tpc',\n",
      " 'IMAGE_LOADER': 'BNBNuv04Loader',\n",
      " 'IMAX': 10.0,\n",
      " 'IMIN': 0.5,\n",
      " 'IOCFG': 'io.cfg',\n",
      " 'MATLAB': 'matlab',\n",
      " 'MODELS_DIR': '/home/vgenty/py-faster-rcnn/models/rpn_uboone',\n",
      " 'NCHANNELS': 1,\n",
      " 'PIXEL_MEANS': array([[[ 0.]]]),\n",
      " 'RNG_SEED': 9,\n",
      " 'ROIPROD': 'tpc',\n",
      " 'ROOT_DIR': '/home/vgenty/segment/py-faster-rcnn',\n",
      " 'TEST': {'BBOX_REG': True,\n",
      "          'HAS_RPN': True,\n",
      "          'MAX_SIZE': 864,\n",
      "          'NMS': 0.3,\n",
      "          'PROPOSAL_METHOD': 'selective_search',\n",
      "          'RPN_MIN_SIZE': 8,\n",
      "          'RPN_NMS_THRESH': 0.7,\n",
      "          'RPN_POST_NMS_TOP_N': 300,\n",
      "          'RPN_PRE_NMS_TOP_N': 6000,\n",
      "          'SCALES': [756],\n",
      "          'SVM': False},\n",
      " 'TRAIN': {'ASPECT_GROUPING': False,\n",
      "           'BATCH_SIZE': 128,\n",
      "           'BBOX_INSIDE_WEIGHTS': [1.0, 1.0, 1.0, 1.0],\n",
      "           'BBOX_NORMALIZE_MEANS': [0.0, 0.0, 0.0, 0.0],\n",
      "           'BBOX_NORMALIZE_STDS': [0.1, 0.1, 0.2, 0.2],\n",
      "           'BBOX_NORMALIZE_TARGETS': True,\n",
      "           'BBOX_NORMALIZE_TARGETS_PRECOMPUTED': True,\n",
      "           'BBOX_REG': True,\n",
      "           'BBOX_THRESH': 0.5,\n",
      "           'BG_THRESH_HI': 0.5,\n",
      "           'BG_THRESH_LO': 0.0,\n",
      "           'FG_FRACTION': 0.25,\n",
      "           'FG_THRESH': 0.5,\n",
      "           'HAS_RPN': True,\n",
      "           'IMS_PER_BATCH': 1,\n",
      "           'MAX_SIZE': 864,\n",
      "           'PROPOSAL_METHOD': 'gt',\n",
      "           'RPN_BATCHSIZE': 256,\n",
      "           'RPN_BBOX_INSIDE_WEIGHTS': [1.0, 1.0, 1.0, 1.0],\n",
      "           'RPN_CLOBBER_POSITIVES': False,\n",
      "           'RPN_FG_FRACTION': 0.5,\n",
      "           'RPN_MIN_SIZE': 16,\n",
      "           'RPN_NEGATIVE_OVERLAP': 0.3,\n",
      "           'RPN_NMS_THRESH': 0.7,\n",
      "           'RPN_POSITIVE_OVERLAP': 0.7,\n",
      "           'RPN_POSITIVE_WEIGHT': -1.0,\n",
      "           'RPN_POST_NMS_TOP_N': 2000,\n",
      "           'RPN_PRE_NMS_TOP_N': 12000,\n",
      "           'SCALES': [756],\n",
      "           'SNAPSHOT_INFIX': '',\n",
      "           'SNAPSHOT_ITERS': 1000,\n",
      "           'USE_FLIPPED': False,\n",
      "           'USE_PREFETCH': False},\n",
      " 'UB_CLASSES': ['neutrino'],\n",
      " 'UB_N_CLASSES': 1,\n",
      " 'USE_GPU_NMS': True,\n",
      " 'WIDTH': 756}\n",
      "train_1\n",
      "val_1\n",
      "trainval_1\n",
      "test_1\n",
      "('__background__', 'neutrino')\n",
      "Loaded dataset `rpn_uboone_train_1` for training\n",
      "Set proposal method: gt\n",
      "Preparing training data...\n",
      "\t>> Preparing roidb in roidb.py <<\n",
      "rpn_uboone_train_1 gt roidb loaded from /home/vgenty/segment/py-faster-rcnn/data/cache/rpn_uboone_train_1_gt_roidb.pkl\n",
      "done\n",
      "('__background__', 'neutrino')\n",
      "81743 roidb entries\n",
      "Output will be saved to `/home/vgenty/segment/py-faster-rcnn/output/faster_rcnn_end2end/rpn_uboone_train_1`\n",
      "Filtered 0 roidb entries: 81743 -> 81743\n",
      "Computing bounding-box regression targets... in SolverWrapper\n",
      "bbox target means:\n",
      "[[ 0.  0.  0.  0.]\n",
      " [ 0.  0.  0.  0.]]\n",
      "[ 0.  0.  0.  0.]\n",
      "bbox target stdevs:\n",
      "[[ 0.1  0.1  0.2  0.2]\n",
      " [ 0.1  0.1  0.2  0.2]]\n",
      "[ 0.1  0.1  0.2  0.2]\n",
      "Normalizing targets\n"
     ]
    }
   ],
   "source": [
    "%run -i ./tools/train_net.py --gpu 0 --solver models/rpn_uboone/resnet6x6_nu_weights_single/faster_rcnn_end2end/solver.prototxt --imdb rpn_uboone_train_1 --iters 700000 --cfg experiments/cfgs/resnet_nu_cosmic_train_v04_brett.yml --weights /data/drinkingkazu/UBDeconvNet/resdeconv/v01/snapshot_resnet_v01_iter_61750.caffemodel.h5         "
   ]
  },
  {
   "cell_type": "code",
   "execution_count": null,
   "metadata": {
    "collapsed": false
   },
   "outputs": [],
   "source": [
    "_sw.solver.net.blobs['data'].data.shape\n",
    "from fast_rcnn.bbox_transform import clip_boxes, bbox_transform_inv  "
   ]
  },
  {
   "cell_type": "code",
   "execution_count": null,
   "metadata": {
    "collapsed": false
   },
   "outputs": [],
   "source": [
    "#_sw.solver.step(1)\n",
    "\n",
    "scores = _sw.solver.net.blobs['cls_score'].data\n",
    "boxes = _sw.solver.net.blobs['rois'].data[:, 1:5]\n",
    "box_deltas = _sw.solver.net.blobs['bbox_pred'].data\n",
    "pred_boxes = bbox_transform_inv(boxes, box_deltas) \n",
    "pred_boxes = clip_boxes(pred_boxes, (756,864))\n",
    "cls_ind = 0\n",
    "cls_boxes = boxes[:, 4*cls_ind:4*(cls_ind + 1)]\n",
    "cls_scores = scores[:, cls_ind]\n",
    "dets = np.hstack((cls_boxes,\n",
    "                  cls_scores[:, np.newaxis])).astype(np.float32) \n",
    "\n",
    "\n",
    "data = _sw.solver.net.blobs['data'].data\n",
    "iminfo = _sw.solver.net.blobs['im_info'].data\n",
    "gtboxes = _sw.solver.net.blobs['gt_boxes'].data\n",
    "print data[0].transpose(2,1,0).shape\n",
    "image = data[0].transpose(2,1,0).astype(np.float32)\n",
    "\n",
    "fig,ax = plt.subplots(figsize=(20,20))\n",
    "imm = np.zeros([image.shape[0],image.shape[1],3])\n",
    "for i in xrange(3):\n",
    "    imm[:,:,i] = image[:,:,0]\n",
    "    \n",
    "image = imm\n",
    "plt.imshow(image)\n",
    "a = [ gt for gt in gtboxes ]\n",
    "for aa in a:\n",
    "    ax.add_patch(plt.Rectangle( (aa[1],aa[0]),aa[3]-aa[1], \n",
    "                                 aa[2]-aa[0],\n",
    "                                 fill=False,\n",
    "                                 edgecolor='blue',\n",
    "                                 linewidth=3.5))\n",
    "    \n",
    "#put in the top class\n",
    "\n",
    "#ax.add_patch(plt.Rectangle((rr[1],rr[0]),\n",
    "#                            rr[3]-rr[1],\n",
    "#                            rr[2]-rr[0],\n",
    "#                            fill=False,\n",
    "#                            edgecolor='purple',\n",
    "#                            linewidth=3.5))\n",
    "\n",
    "plt.show()"
   ]
  },
  {
   "cell_type": "code",
   "execution_count": null,
   "metadata": {
    "collapsed": false
   },
   "outputs": [],
   "source": [
    "#save the model\n",
    "_sw.train_model(1)"
   ]
  },
  {
   "cell_type": "code",
   "execution_count": null,
   "metadata": {
    "collapsed": false,
    "scrolled": true
   },
   "outputs": [],
   "source": [
    "# It is the size of the responses at the (5th) convolutional layer. \n",
    "# Usually, it has a resolution of a downsampled image by a factor of 16 \n",
    "# (plus/minus offsets due to pooling / padding).\n",
    "for i in xrange(18):\n",
    "    fig,ax = plt.subplots(figsize=(10,6))\n",
    "    plt.imshow(_sw.solver.net.blobs['rpn_cls_score'].data[0][i],cmap='Greys',interpolation='none')\n",
    "    #plt.savefig('_{}.jpeg'.format(i), format='jpeg', dpi=200)\n",
    "    plt.show()"
   ]
  },
  {
   "cell_type": "code",
   "execution_count": 4,
   "metadata": {
    "collapsed": false
   },
   "outputs": [],
   "source": [
    "s1 = []\n",
    "s2 = []\n",
    "i__=[]\n",
    "loss_cls=[]\n",
    "loss_bbox=[]\n",
    "rpn_cls_loss=[]\n",
    "rpn_loss_bbox=[]\n",
    "#_sw.solver.net.blobs.keys()"
   ]
  },
  {
   "cell_type": "code",
   "execution_count": 15,
   "metadata": {
    "collapsed": false,
    "scrolled": true
   },
   "outputs": [],
   "source": [
    "for i in xrange(10000):\n",
    "    i__.append(i)\n",
    "    _sw.solver.step(1)\n",
    "    scores = _sw.solver.net.blobs['cls_score'].data\n",
    "    #boxes = _sw.solver.net.blobs['rois'].data[:, 1:5]\n",
    "    #box_deltas = _sw.solver.net.blobs['bbox_pred'].data\n",
    "    #red_boxes = bbox_transform_inv(boxes, box_deltas)  \n",
    "    #red_boxes = clip_boxes(pred_boxes, (864,864))\n",
    "    #cls_ind = 0\n",
    "    #cls_boxes = boxes[:, 4*cls_ind:4*(cls_ind + 1)]\n",
    "    #cls_scores = scores[:, cls_ind]\n",
    "    #dets = np.hstack((cls_boxes,\n",
    "    #                 cls_scores[:, np.newaxis])).astype(np.float32) \n",
    "    s1.append(scores[0][0])\n",
    "    s2.append(scores[0][1])\n",
    "    loss_cls.append(_sw.solver.net.blobs['loss_cls'].data)\n",
    "    loss_bbox.append(_sw.solver.net.blobs['loss_bbox'].data)\n",
    "    rpn_cls_loss.append(_sw.solver.net.blobs['rpn_cls_loss'].data)\n",
    "    rpn_loss_bbox.append(_sw.solver.net.blobs['rpn_loss_bbox'].data)\n",
    "    break\n",
    "    "
   ]
  },
  {
   "cell_type": "code",
   "execution_count": 22,
   "metadata": {
    "collapsed": false
   },
   "outputs": [
    {
     "data": {
      "text/plain": [
       "array(0.1183612272143364, dtype=float32)"
      ]
     },
     "execution_count": 22,
     "metadata": {},
     "output_type": "execute_result"
    }
   ],
   "source": [
    "_sw.solver.net.blobs['loss_cls'].data.copy()"
   ]
  },
  {
   "cell_type": "code",
   "execution_count": 16,
   "metadata": {
    "collapsed": false
   },
   "outputs": [
    {
     "name": "stdout",
     "output_type": "stream",
     "text": [
      "[array(0.1183612272143364, dtype=float32), array(0.1183612272143364, dtype=float32)]\n",
      "[array(0.00026209536008536816, dtype=float32), array(0.00026209536008536816, dtype=float32)]\n",
      "[array(0.6916176676750183, dtype=float32), array(0.6916176676750183, dtype=float32)]\n",
      "[array(0.07981447875499725, dtype=float32), array(0.07981447875499725, dtype=float32)]\n"
     ]
    }
   ],
   "source": [
    "print loss_cls\n",
    "print loss_bbox\n",
    "print rpn_cls_loss\n",
    "print rpn_loss_bbox"
   ]
  },
  {
   "cell_type": "code",
   "execution_count": null,
   "metadata": {
    "collapsed": false
   },
   "outputs": [],
   "source": [
    "matplotlib.rcParams['font.size'] = 16\n",
    "matplotlib.rcParams['font.family'] = 'serif'\n",
    "import pandas as pd\n",
    "fig,ax = plt.subplots(figsize=(10,6))\n",
    "ss1 = pd.Series(s1)\n",
    "ss2 = pd.Series(s2)\n",
    "ax.plot(np.arange(0,len(s1),1),ss1.rolling(window=1).mean(),'-o',alpha=0.5,lw=2,color='blue')\n",
    "ax.plot(np.arange(0,len(s2),1),ss2.rolling(window=1).mean(),'-o',alpha=0.5,lw=2,color='green')\n",
    "ax.plot(np.arange(0,len(s1),1),ss1.rolling(window=10).mean(),'-',alpha=1.0,lw=2,color='red')\n",
    "ax.plot(np.arange(0,len(s2),1),ss2.rolling(window=10).mean(),'-',alpha=1.0,lw=2,color='red') \n",
    "ax.set_xlabel(\"Iteration\")\n",
    "ax.set_ylabel(\"net.blobs[\\\"cls_score\\\"]\")\n",
    "ax.set_title(\"Blue == Cosmic. Green == Nu.\")\n",
    "#plt.savefig('as_nu_cosmic_trains___k.jpeg'.format(i), format='jpeg', dpi=200)\n",
    "plt.grid()\n",
    "plt.show()"
   ]
  }
 ],
 "metadata": {
  "kernelspec": {
   "display_name": "Python 2",
   "language": "python",
   "name": "python2"
  },
  "language_info": {
   "codemirror_mode": {
    "name": "ipython",
    "version": 2
   },
   "file_extension": ".py",
   "mimetype": "text/x-python",
   "name": "python",
   "nbconvert_exporter": "python",
   "pygments_lexer": "ipython2",
   "version": "2.7.6"
  }
 },
 "nbformat": 4,
 "nbformat_minor": 0
}
