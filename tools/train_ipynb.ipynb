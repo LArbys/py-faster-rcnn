{
 "cells": [
  {
   "cell_type": "code",
   "execution_count": 1,
   "metadata": {
    "collapsed": false
   },
   "outputs": [
    {
     "name": "stderr",
     "output_type": "stream",
     "text": [
      "../caffe-fast-rcnn/python/caffe/pycaffe.py:13: RuntimeWarning: to-Python converter for boost::shared_ptr<caffe::Net<float> > already registered; second conversion method ignored.\n",
      "  from ._caffe import Net, SGDSolver, NesterovSolver, AdaGradSolver, \\\n",
      "../caffe-fast-rcnn/python/caffe/pycaffe.py:13: RuntimeWarning: to-Python converter for boost::shared_ptr<caffe::Blob<float> > already registered; second conversion method ignored.\n",
      "  from ._caffe import Net, SGDSolver, NesterovSolver, AdaGradSolver, \\\n"
     ]
    }
   ],
   "source": [
    "import _init_paths\n",
    "from fast_rcnn.config import cfg\n",
    "from fast_rcnn.train import get_training_roidb, train_net\n",
    "from fast_rcnn.config import cfg_from_file, cfg_from_list, get_output_dir\n",
    "import datasets.imdb\n",
    "import caffe\n",
    "import argparse\n",
    "import pprint\n",
    "import numpy as np\n",
    "import sys\n",
    "\n",
    "def parse_args():\n",
    "    \"\"\"\n",
    "    Parse input arguments\n",
    "    \"\"\"\n",
    "    parser = argparse.ArgumentParser(description='Train a Fast R-CNN network')\n",
    "    parser.add_argument('--gpu', dest='gpu_id',\n",
    "                        help='GPU device id to use [0]',\n",
    "                        default=0, type=int)\n",
    "    parser.add_argument('--solver', dest='solver',\n",
    "                        help='solver prototxt',\n",
    "                        default=None, type=str)\n",
    "    parser.add_argument('--iters', dest='max_iters',\n",
    "                        help='number of iterations to train',\n",
    "                        default=40000, type=int)\n",
    "    parser.add_argument('--weights', dest='pretrained_model',\n",
    "                        help='initialize with pretrained model weights',\n",
    "                        default=None, type=str)\n",
    "    parser.add_argument('--cfg', dest='cfg_file',\n",
    "                        help='optional config file',\n",
    "                        default=None, type=str)\n",
    "    parser.add_argument('--imdb', dest='imdb_name',\n",
    "                        help='dataset to train on',\n",
    "                        default='voc_2007_trainval', type=str)\n",
    "    parser.add_argument('--rand', dest='randomize',\n",
    "                        help='randomize (do not use a fixed seed)',\n",
    "                        action='store_true')\n",
    "    parser.add_argument('--set', dest='set_cfgs',\n",
    "                        help='set config keys', default=None,\n",
    "                        nargs=argparse.REMAINDER)\n",
    "\n",
    "    if len(sys.argv) == 1:\n",
    "        parser.print_help()\n",
    "        sys.exit(1)\n",
    "\n",
    "    args = parser.parse_args()\n",
    "    return args\n",
    "\n",
    "def combined_roidb(imdb_names):\n",
    "    def get_roidb(imdb_name):\n",
    "        imdb = get_imdb(imdb_name)\n",
    "        print 'Loaded dataset `{:s}` for training'.format(imdb.name)\n",
    "        imdb.set_proposal_method(cfg.TRAIN.PROPOSAL_METHOD)\n",
    "        print 'Set proposal method: {:s}'.format(cfg.TRAIN.PROPOSAL_METHOD)\n",
    "        roidb = get_training_roidb(imdb)\n",
    "        return roidb\n",
    "\n",
    "    roidbs = [get_roidb(s) for s in imdb_names.split('+')]\n",
    "    roidb = roidbs[0]\n",
    "    if len(roidbs) > 1:\n",
    "        for r in roidbs[1:]:\n",
    "            roidb.extend(r)\n",
    "        imdb = datasets.imdb.imdb(imdb_names)\n",
    "    else:\n",
    "        imdb = get_imdb(imdb_names)\n",
    "    return imdb, roidb"
   ]
  },
  {
   "cell_type": "code",
   "execution_count": null,
   "metadata": {
    "collapsed": true
   },
   "outputs": [],
   "source": [
    "args = parse_args()\n",
    "\n",
    "print('Called with args:')\n",
    "print(args)\n",
    "\n",
    "if args.cfg_file is not None:\n",
    "    cfg_from_file(args.cfg_file)\n",
    "if args.set_cfgs is not None:\n",
    "    cfg_from_list(args.set_cfgs)\n",
    "cfg.GPU_ID = args.gpu_id\n",
    "\n",
    "print('Using config:')\n",
    "pprint.pprint(cfg)\n",
    "    \n",
    "    #factory uses config file\n",
    "from datasets.factory import get_imdb\n",
    "    \n",
    "if not args.randomize:\n",
    "        # fix the random seeds (numpy and caffe) for reproducibility\n",
    "    np.random.seed(cfg.RNG_SEED)\n",
    "    caffe.set_random_seed(cfg.RNG_SEED)\n",
    "\n",
    "    # set up caffe\n",
    "caffe.set_mode_gpu()\n",
    "caffe.set_device(args.gpu_id)\n",
    "\n",
    "    imdb, roidb = combined_roidb(args.imdb_name)\n",
    "print '{:d} roidb entries'.format(len(roidb))\n",
    "\n",
    "output_dir = get_output_dir(imdb)\n",
    "print 'Output will be saved to `{:s}`'.format(output_dir)\n",
    "\n",
    "train_net(args.solver, roidb, output_dir,\n",
    "          pretrained_model=args.pretrained_model,\n",
    "          max_iters=args.max_iters)\n",
    "    "
   ]
  }
 ],
 "metadata": {
  "kernelspec": {
   "display_name": "Python 2",
   "language": "python",
   "name": "python2"
  },
  "language_info": {
   "codemirror_mode": {
    "name": "ipython",
    "version": 2
   },
   "file_extension": ".py",
   "mimetype": "text/x-python",
   "name": "python",
   "nbconvert_exporter": "python",
   "pygments_lexer": "ipython2",
   "version": "2.7.6"
  }
 },
 "nbformat": 4,
 "nbformat_minor": 0
}
